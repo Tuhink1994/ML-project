{
 "cells": [
  {
   "cell_type": "code",
   "execution_count": 1,
   "id": "8724d0be",
   "metadata": {},
   "outputs": [],
   "source": [
    "loan_train_csv= \"https://s3-api.us-geo.objectstorage.softlayer.net/cf-courses-data/CognitiveClass/ML0101ENv3/labs/loan_train.csv\"\n",
    "loan_test_csv = \"https://s3-api.us-geo.objectstorage.softlayer.net/cf-courses-data/CognitiveClass/ML0101ENv3/labs/loan_test.csv\""
   ]
  },
  {
   "cell_type": "code",
   "execution_count": 2,
   "id": "06994869",
   "metadata": {},
   "outputs": [],
   "source": [
    "import numpy as np\n",
    "import pandas as pd\n",
    "import matplotlib.pyplot as plot\n",
    "%matplotlib inline"
   ]
  },
  {
   "cell_type": "code",
   "execution_count": 3,
   "id": "082e9a98",
   "metadata": {},
   "outputs": [],
   "source": [
    "#reading loan_train_csv\n",
    "\n",
    "df_train= pd.read_csv(loan_train_csv,  parse_dates=True)\n",
    "df_test = pd.read_csv(loan_test_csv,  parse_dates=True)"
   ]
  },
  {
   "cell_type": "code",
   "execution_count": 4,
   "id": "272d6d15",
   "metadata": {},
   "outputs": [],
   "source": [
    "df_train = df_train.append(df_test)"
   ]
  },
  {
   "cell_type": "code",
   "execution_count": 5,
   "id": "38bcb7b0",
   "metadata": {},
   "outputs": [
    {
     "data": {
      "text/plain": [
       "(400, 10)"
      ]
     },
     "execution_count": 5,
     "metadata": {},
     "output_type": "execute_result"
    }
   ],
   "source": [
    "#dispaly top few records\n",
    "df_train.shape"
   ]
  },
  {
   "cell_type": "code",
   "execution_count": 6,
   "id": "91379bd6",
   "metadata": {},
   "outputs": [
    {
     "data": {
      "text/plain": [
       "Index(['Unnamed: 0', 'Unnamed: 0.1', 'loan_status', 'Principal', 'terms',\n",
       "       'effective_date', 'due_date', 'age', 'education', 'Gender'],\n",
       "      dtype='object')"
      ]
     },
     "execution_count": 6,
     "metadata": {},
     "output_type": "execute_result"
    }
   ],
   "source": [
    "#rename columns\n",
    "columns = df_train.columns\n",
    "columns"
   ]
  },
  {
   "cell_type": "code",
   "execution_count": 7,
   "id": "4ed143e3",
   "metadata": {},
   "outputs": [
    {
     "data": {
      "text/plain": [
       "Index(['one', 'two', 'loan_status', 'Principal', 'terms', 'effective_date',\n",
       "       'due_date', 'age', 'education', 'Gender'],\n",
       "      dtype='object')"
      ]
     },
     "execution_count": 7,
     "metadata": {},
     "output_type": "execute_result"
    }
   ],
   "source": [
    "#rename columns \n",
    "df_train.rename(columns = { columns[0]:\"one\" , columns[1]:\"two\"}, inplace = True)\n",
    "df_train.columns"
   ]
  },
  {
   "cell_type": "code",
   "execution_count": 8,
   "id": "62ddc2de",
   "metadata": {},
   "outputs": [
    {
     "data": {
      "text/plain": [
       "one                int64\n",
       "two                int64\n",
       "loan_status       object\n",
       "Principal          int64\n",
       "terms              int64\n",
       "effective_date    object\n",
       "due_date          object\n",
       "age                int64\n",
       "education         object\n",
       "Gender            object\n",
       "dtype: object"
      ]
     },
     "execution_count": 8,
     "metadata": {},
     "output_type": "execute_result"
    }
   ],
   "source": [
    "#check data types\n",
    "df_train.dtypes"
   ]
  },
  {
   "cell_type": "code",
   "execution_count": 9,
   "id": "deb10d7d",
   "metadata": {},
   "outputs": [
    {
     "data": {
      "text/plain": [
       "one                        int64\n",
       "two                        int64\n",
       "loan_status               object\n",
       "Principal                  int64\n",
       "terms                      int64\n",
       "effective_date    datetime64[ns]\n",
       "due_date          datetime64[ns]\n",
       "age                        int64\n",
       "education                 object\n",
       "Gender                    object\n",
       "dtype: object"
      ]
     },
     "execution_count": 9,
     "metadata": {},
     "output_type": "execute_result"
    }
   ],
   "source": [
    "#converting string dates  to datetime \n",
    "df_train['effective_date'] = pd.to_datetime(df_train['effective_date'])\n",
    "df_train['due_date'] = pd.to_datetime(df_train['due_date'])\n",
    "df_train.dtypes"
   ]
  },
  {
   "cell_type": "code",
   "execution_count": 10,
   "id": "cf7f8e57",
   "metadata": {},
   "outputs": [
    {
     "data": {
      "text/plain": [
       "one               0\n",
       "two               0\n",
       "loan_status       0\n",
       "Principal         0\n",
       "terms             0\n",
       "effective_date    0\n",
       "due_date          0\n",
       "age               0\n",
       "education         0\n",
       "Gender            0\n",
       "dtype: int64"
      ]
     },
     "execution_count": 10,
     "metadata": {},
     "output_type": "execute_result"
    }
   ],
   "source": [
    "#check null values\n",
    "df_train.isna().sum()"
   ]
  },
  {
   "cell_type": "code",
   "execution_count": 11,
   "id": "4ff692a2",
   "metadata": {},
   "outputs": [
    {
     "data": {
      "text/plain": [
       "one               0\n",
       "two               0\n",
       "loan_status       0\n",
       "Principal         0\n",
       "terms             0\n",
       "effective_date    0\n",
       "due_date          0\n",
       "age               0\n",
       "education         0\n",
       "Gender            0\n",
       "dtype: int64"
      ]
     },
     "execution_count": 11,
     "metadata": {},
     "output_type": "execute_result"
    }
   ],
   "source": [
    "#check null values\n",
    "df_train.isna().sum()"
   ]
  },
  {
   "cell_type": "code",
   "execution_count": 12,
   "id": "520f5fe8",
   "metadata": {},
   "outputs": [
    {
     "data": {
      "text/html": [
       "<div>\n",
       "<style scoped>\n",
       "    .dataframe tbody tr th:only-of-type {\n",
       "        vertical-align: middle;\n",
       "    }\n",
       "\n",
       "    .dataframe tbody tr th {\n",
       "        vertical-align: top;\n",
       "    }\n",
       "\n",
       "    .dataframe thead th {\n",
       "        text-align: right;\n",
       "    }\n",
       "</style>\n",
       "<table border=\"1\" class=\"dataframe\">\n",
       "  <thead>\n",
       "    <tr style=\"text-align: right;\">\n",
       "      <th></th>\n",
       "      <th>one</th>\n",
       "      <th>two</th>\n",
       "      <th>loan_status</th>\n",
       "      <th>Principal</th>\n",
       "      <th>terms</th>\n",
       "      <th>effective_date</th>\n",
       "      <th>due_date</th>\n",
       "      <th>age</th>\n",
       "      <th>education</th>\n",
       "      <th>Gender</th>\n",
       "    </tr>\n",
       "  </thead>\n",
       "  <tbody>\n",
       "    <tr>\n",
       "      <th>0</th>\n",
       "      <td>0</td>\n",
       "      <td>0</td>\n",
       "      <td>PAIDOFF</td>\n",
       "      <td>1000</td>\n",
       "      <td>30</td>\n",
       "      <td>2016-09-08</td>\n",
       "      <td>2016-10-07</td>\n",
       "      <td>45</td>\n",
       "      <td>High School or Below</td>\n",
       "      <td>male</td>\n",
       "    </tr>\n",
       "    <tr>\n",
       "      <th>1</th>\n",
       "      <td>2</td>\n",
       "      <td>2</td>\n",
       "      <td>PAIDOFF</td>\n",
       "      <td>1000</td>\n",
       "      <td>30</td>\n",
       "      <td>2016-09-08</td>\n",
       "      <td>2016-10-07</td>\n",
       "      <td>33</td>\n",
       "      <td>Bechalor</td>\n",
       "      <td>female</td>\n",
       "    </tr>\n",
       "    <tr>\n",
       "      <th>2</th>\n",
       "      <td>3</td>\n",
       "      <td>3</td>\n",
       "      <td>PAIDOFF</td>\n",
       "      <td>1000</td>\n",
       "      <td>15</td>\n",
       "      <td>2016-09-08</td>\n",
       "      <td>2016-09-22</td>\n",
       "      <td>27</td>\n",
       "      <td>college</td>\n",
       "      <td>male</td>\n",
       "    </tr>\n",
       "    <tr>\n",
       "      <th>3</th>\n",
       "      <td>4</td>\n",
       "      <td>4</td>\n",
       "      <td>PAIDOFF</td>\n",
       "      <td>1000</td>\n",
       "      <td>30</td>\n",
       "      <td>2016-09-09</td>\n",
       "      <td>2016-10-08</td>\n",
       "      <td>28</td>\n",
       "      <td>college</td>\n",
       "      <td>female</td>\n",
       "    </tr>\n",
       "    <tr>\n",
       "      <th>4</th>\n",
       "      <td>6</td>\n",
       "      <td>6</td>\n",
       "      <td>PAIDOFF</td>\n",
       "      <td>1000</td>\n",
       "      <td>30</td>\n",
       "      <td>2016-09-09</td>\n",
       "      <td>2016-10-08</td>\n",
       "      <td>29</td>\n",
       "      <td>college</td>\n",
       "      <td>male</td>\n",
       "    </tr>\n",
       "    <tr>\n",
       "      <th>5</th>\n",
       "      <td>7</td>\n",
       "      <td>7</td>\n",
       "      <td>PAIDOFF</td>\n",
       "      <td>1000</td>\n",
       "      <td>30</td>\n",
       "      <td>2016-09-09</td>\n",
       "      <td>2016-10-08</td>\n",
       "      <td>36</td>\n",
       "      <td>college</td>\n",
       "      <td>male</td>\n",
       "    </tr>\n",
       "    <tr>\n",
       "      <th>6</th>\n",
       "      <td>8</td>\n",
       "      <td>8</td>\n",
       "      <td>PAIDOFF</td>\n",
       "      <td>1000</td>\n",
       "      <td>30</td>\n",
       "      <td>2016-09-09</td>\n",
       "      <td>2016-10-08</td>\n",
       "      <td>28</td>\n",
       "      <td>college</td>\n",
       "      <td>male</td>\n",
       "    </tr>\n",
       "    <tr>\n",
       "      <th>7</th>\n",
       "      <td>9</td>\n",
       "      <td>9</td>\n",
       "      <td>PAIDOFF</td>\n",
       "      <td>800</td>\n",
       "      <td>15</td>\n",
       "      <td>2016-09-10</td>\n",
       "      <td>2016-09-24</td>\n",
       "      <td>26</td>\n",
       "      <td>college</td>\n",
       "      <td>male</td>\n",
       "    </tr>\n",
       "    <tr>\n",
       "      <th>8</th>\n",
       "      <td>10</td>\n",
       "      <td>10</td>\n",
       "      <td>PAIDOFF</td>\n",
       "      <td>300</td>\n",
       "      <td>7</td>\n",
       "      <td>2016-09-10</td>\n",
       "      <td>2016-09-16</td>\n",
       "      <td>29</td>\n",
       "      <td>college</td>\n",
       "      <td>male</td>\n",
       "    </tr>\n",
       "    <tr>\n",
       "      <th>9</th>\n",
       "      <td>11</td>\n",
       "      <td>11</td>\n",
       "      <td>PAIDOFF</td>\n",
       "      <td>1000</td>\n",
       "      <td>15</td>\n",
       "      <td>2016-09-10</td>\n",
       "      <td>2016-10-09</td>\n",
       "      <td>39</td>\n",
       "      <td>High School or Below</td>\n",
       "      <td>male</td>\n",
       "    </tr>\n",
       "  </tbody>\n",
       "</table>\n",
       "</div>"
      ],
      "text/plain": [
       "   one  two loan_status  Principal  terms effective_date   due_date  age  \\\n",
       "0    0    0     PAIDOFF       1000     30     2016-09-08 2016-10-07   45   \n",
       "1    2    2     PAIDOFF       1000     30     2016-09-08 2016-10-07   33   \n",
       "2    3    3     PAIDOFF       1000     15     2016-09-08 2016-09-22   27   \n",
       "3    4    4     PAIDOFF       1000     30     2016-09-09 2016-10-08   28   \n",
       "4    6    6     PAIDOFF       1000     30     2016-09-09 2016-10-08   29   \n",
       "5    7    7     PAIDOFF       1000     30     2016-09-09 2016-10-08   36   \n",
       "6    8    8     PAIDOFF       1000     30     2016-09-09 2016-10-08   28   \n",
       "7    9    9     PAIDOFF        800     15     2016-09-10 2016-09-24   26   \n",
       "8   10   10     PAIDOFF        300      7     2016-09-10 2016-09-16   29   \n",
       "9   11   11     PAIDOFF       1000     15     2016-09-10 2016-10-09   39   \n",
       "\n",
       "              education  Gender  \n",
       "0  High School or Below    male  \n",
       "1              Bechalor  female  \n",
       "2               college    male  \n",
       "3               college  female  \n",
       "4               college    male  \n",
       "5               college    male  \n",
       "6               college    male  \n",
       "7               college    male  \n",
       "8               college    male  \n",
       "9  High School or Below    male  "
      ]
     },
     "execution_count": 12,
     "metadata": {},
     "output_type": "execute_result"
    }
   ],
   "source": [
    "df_train.head(10)"
   ]
  },
  {
   "cell_type": "code",
   "execution_count": 13,
   "id": "21a6adb2",
   "metadata": {},
   "outputs": [
    {
     "data": {
      "text/plain": [
       "array(['PAIDOFF', 'COLLECTION'], dtype=object)"
      ]
     },
     "execution_count": 13,
     "metadata": {},
     "output_type": "execute_result"
    }
   ],
   "source": [
    "#checking types of unique values \n",
    "df_train.education.unique() # 4 unique\n",
    "df_train.loan_status.unique() #two uniques"
   ]
  },
  {
   "cell_type": "code",
   "execution_count": 14,
   "id": "17b545fd",
   "metadata": {},
   "outputs": [
    {
     "data": {
      "text/html": [
       "<div>\n",
       "<style scoped>\n",
       "    .dataframe tbody tr th:only-of-type {\n",
       "        vertical-align: middle;\n",
       "    }\n",
       "\n",
       "    .dataframe tbody tr th {\n",
       "        vertical-align: top;\n",
       "    }\n",
       "\n",
       "    .dataframe thead th {\n",
       "        text-align: right;\n",
       "    }\n",
       "</style>\n",
       "<table border=\"1\" class=\"dataframe\">\n",
       "  <thead>\n",
       "    <tr style=\"text-align: right;\">\n",
       "      <th></th>\n",
       "      <th>one</th>\n",
       "      <th>two</th>\n",
       "      <th>loan_status</th>\n",
       "      <th>Principal</th>\n",
       "      <th>terms</th>\n",
       "      <th>effective_date</th>\n",
       "      <th>due_date</th>\n",
       "      <th>age</th>\n",
       "      <th>education</th>\n",
       "      <th>Gender</th>\n",
       "    </tr>\n",
       "  </thead>\n",
       "  <tbody>\n",
       "    <tr>\n",
       "      <th>0</th>\n",
       "      <td>0</td>\n",
       "      <td>0</td>\n",
       "      <td>PAIDOFF</td>\n",
       "      <td>1000</td>\n",
       "      <td>30</td>\n",
       "      <td>2016-09-08</td>\n",
       "      <td>2016-10-07</td>\n",
       "      <td>45</td>\n",
       "      <td>High School or Below</td>\n",
       "      <td>1</td>\n",
       "    </tr>\n",
       "    <tr>\n",
       "      <th>1</th>\n",
       "      <td>2</td>\n",
       "      <td>2</td>\n",
       "      <td>PAIDOFF</td>\n",
       "      <td>1000</td>\n",
       "      <td>30</td>\n",
       "      <td>2016-09-08</td>\n",
       "      <td>2016-10-07</td>\n",
       "      <td>33</td>\n",
       "      <td>Bechalor</td>\n",
       "      <td>0</td>\n",
       "    </tr>\n",
       "    <tr>\n",
       "      <th>2</th>\n",
       "      <td>3</td>\n",
       "      <td>3</td>\n",
       "      <td>PAIDOFF</td>\n",
       "      <td>1000</td>\n",
       "      <td>15</td>\n",
       "      <td>2016-09-08</td>\n",
       "      <td>2016-09-22</td>\n",
       "      <td>27</td>\n",
       "      <td>college</td>\n",
       "      <td>1</td>\n",
       "    </tr>\n",
       "    <tr>\n",
       "      <th>3</th>\n",
       "      <td>4</td>\n",
       "      <td>4</td>\n",
       "      <td>PAIDOFF</td>\n",
       "      <td>1000</td>\n",
       "      <td>30</td>\n",
       "      <td>2016-09-09</td>\n",
       "      <td>2016-10-08</td>\n",
       "      <td>28</td>\n",
       "      <td>college</td>\n",
       "      <td>0</td>\n",
       "    </tr>\n",
       "    <tr>\n",
       "      <th>4</th>\n",
       "      <td>6</td>\n",
       "      <td>6</td>\n",
       "      <td>PAIDOFF</td>\n",
       "      <td>1000</td>\n",
       "      <td>30</td>\n",
       "      <td>2016-09-09</td>\n",
       "      <td>2016-10-08</td>\n",
       "      <td>29</td>\n",
       "      <td>college</td>\n",
       "      <td>1</td>\n",
       "    </tr>\n",
       "  </tbody>\n",
       "</table>\n",
       "</div>"
      ],
      "text/plain": [
       "   one  two loan_status  Principal  terms effective_date   due_date  age  \\\n",
       "0    0    0     PAIDOFF       1000     30     2016-09-08 2016-10-07   45   \n",
       "1    2    2     PAIDOFF       1000     30     2016-09-08 2016-10-07   33   \n",
       "2    3    3     PAIDOFF       1000     15     2016-09-08 2016-09-22   27   \n",
       "3    4    4     PAIDOFF       1000     30     2016-09-09 2016-10-08   28   \n",
       "4    6    6     PAIDOFF       1000     30     2016-09-09 2016-10-08   29   \n",
       "\n",
       "              education  Gender  \n",
       "0  High School or Below       1  \n",
       "1              Bechalor       0  \n",
       "2               college       1  \n",
       "3               college       0  \n",
       "4               college       1  "
      ]
     },
     "execution_count": 14,
     "metadata": {},
     "output_type": "execute_result"
    }
   ],
   "source": [
    "#convrt gender colum to numeric values -- 0- male, 1- female\n",
    "from sklearn.preprocessing import LabelEncoder\n",
    "genderEncoder= LabelEncoder()\n",
    "df_train.Gender = genderEncoder.fit_transform(df_train.Gender)\n",
    "df_train.head()"
   ]
  },
  {
   "cell_type": "code",
   "execution_count": 15,
   "id": "db6e7c5f",
   "metadata": {},
   "outputs": [],
   "source": [
    "edu_dummy= pd.get_dummies(df_train.education)\n",
    "edu_dummy\n",
    "df_train.drop(axis=1, columns= \"education\", inplace= True)\n",
    "df_train = pd.concat( [df_train,edu_dummy ], axis=1 )"
   ]
  },
  {
   "cell_type": "code",
   "execution_count": 16,
   "id": "9c8aaca9",
   "metadata": {},
   "outputs": [
    {
     "data": {
      "text/html": [
       "<div>\n",
       "<style scoped>\n",
       "    .dataframe tbody tr th:only-of-type {\n",
       "        vertical-align: middle;\n",
       "    }\n",
       "\n",
       "    .dataframe tbody tr th {\n",
       "        vertical-align: top;\n",
       "    }\n",
       "\n",
       "    .dataframe thead th {\n",
       "        text-align: right;\n",
       "    }\n",
       "</style>\n",
       "<table border=\"1\" class=\"dataframe\">\n",
       "  <thead>\n",
       "    <tr style=\"text-align: right;\">\n",
       "      <th></th>\n",
       "      <th>one</th>\n",
       "      <th>two</th>\n",
       "      <th>loan_status</th>\n",
       "      <th>Principal</th>\n",
       "      <th>terms</th>\n",
       "      <th>effective_date</th>\n",
       "      <th>due_date</th>\n",
       "      <th>age</th>\n",
       "      <th>Gender</th>\n",
       "      <th>Bechalor</th>\n",
       "      <th>High School or Below</th>\n",
       "      <th>Master or Above</th>\n",
       "      <th>college</th>\n",
       "    </tr>\n",
       "  </thead>\n",
       "  <tbody>\n",
       "    <tr>\n",
       "      <th>0</th>\n",
       "      <td>0</td>\n",
       "      <td>0</td>\n",
       "      <td>1</td>\n",
       "      <td>1000</td>\n",
       "      <td>30</td>\n",
       "      <td>2016-09-08</td>\n",
       "      <td>2016-10-07</td>\n",
       "      <td>45</td>\n",
       "      <td>1</td>\n",
       "      <td>0</td>\n",
       "      <td>1</td>\n",
       "      <td>0</td>\n",
       "      <td>0</td>\n",
       "    </tr>\n",
       "    <tr>\n",
       "      <th>1</th>\n",
       "      <td>2</td>\n",
       "      <td>2</td>\n",
       "      <td>1</td>\n",
       "      <td>1000</td>\n",
       "      <td>30</td>\n",
       "      <td>2016-09-08</td>\n",
       "      <td>2016-10-07</td>\n",
       "      <td>33</td>\n",
       "      <td>0</td>\n",
       "      <td>1</td>\n",
       "      <td>0</td>\n",
       "      <td>0</td>\n",
       "      <td>0</td>\n",
       "    </tr>\n",
       "    <tr>\n",
       "      <th>2</th>\n",
       "      <td>3</td>\n",
       "      <td>3</td>\n",
       "      <td>1</td>\n",
       "      <td>1000</td>\n",
       "      <td>15</td>\n",
       "      <td>2016-09-08</td>\n",
       "      <td>2016-09-22</td>\n",
       "      <td>27</td>\n",
       "      <td>1</td>\n",
       "      <td>0</td>\n",
       "      <td>0</td>\n",
       "      <td>0</td>\n",
       "      <td>1</td>\n",
       "    </tr>\n",
       "    <tr>\n",
       "      <th>3</th>\n",
       "      <td>4</td>\n",
       "      <td>4</td>\n",
       "      <td>1</td>\n",
       "      <td>1000</td>\n",
       "      <td>30</td>\n",
       "      <td>2016-09-09</td>\n",
       "      <td>2016-10-08</td>\n",
       "      <td>28</td>\n",
       "      <td>0</td>\n",
       "      <td>0</td>\n",
       "      <td>0</td>\n",
       "      <td>0</td>\n",
       "      <td>1</td>\n",
       "    </tr>\n",
       "    <tr>\n",
       "      <th>4</th>\n",
       "      <td>6</td>\n",
       "      <td>6</td>\n",
       "      <td>1</td>\n",
       "      <td>1000</td>\n",
       "      <td>30</td>\n",
       "      <td>2016-09-09</td>\n",
       "      <td>2016-10-08</td>\n",
       "      <td>29</td>\n",
       "      <td>1</td>\n",
       "      <td>0</td>\n",
       "      <td>0</td>\n",
       "      <td>0</td>\n",
       "      <td>1</td>\n",
       "    </tr>\n",
       "  </tbody>\n",
       "</table>\n",
       "</div>"
      ],
      "text/plain": [
       "   one  two  loan_status  Principal  terms effective_date   due_date  age  \\\n",
       "0    0    0            1       1000     30     2016-09-08 2016-10-07   45   \n",
       "1    2    2            1       1000     30     2016-09-08 2016-10-07   33   \n",
       "2    3    3            1       1000     15     2016-09-08 2016-09-22   27   \n",
       "3    4    4            1       1000     30     2016-09-09 2016-10-08   28   \n",
       "4    6    6            1       1000     30     2016-09-09 2016-10-08   29   \n",
       "\n",
       "   Gender  Bechalor  High School or Below  Master or Above  college  \n",
       "0       1         0                     1                0        0  \n",
       "1       0         1                     0                0        0  \n",
       "2       1         0                     0                0        1  \n",
       "3       0         0                     0                0        1  \n",
       "4       1         0                     0                0        1  "
      ]
     },
     "execution_count": 16,
     "metadata": {},
     "output_type": "execute_result"
    }
   ],
   "source": [
    "#convert loan_status  to numeric values 1- paid, 0- default\n",
    "loan_status_encoder =LabelEncoder()\n",
    "df_train.loan_status = loan_status_encoder.fit_transform(df_train.loan_status)\n",
    "df_train.head()"
   ]
  },
  {
   "cell_type": "code",
   "execution_count": 17,
   "id": "4dcfbbb5",
   "metadata": {},
   "outputs": [],
   "source": [
    "# create method to add date parts . This method is a part of fast ai library\n",
    "from pandas.api.types import *\n",
    "import re\n",
    "def add_datepart(df, fldname, drop=True, time=False, errors=\"raise\"):\t\n",
    "    \"\"\"add_datepart converts a column of df from a datetime64 to many columns containing\n",
    "    the information from the date. This applies changes inplace.\n",
    "    Parameters:\n",
    "    -----------\n",
    "    df: A pandas data frame. df gain several new columns.\n",
    "    fldname: A string that is the name of the date column you wish to expand.\n",
    "        If it is not a datetime64 series, it will be converted to one with pd.to_datetime.\n",
    "    drop: If true then the original date column will be removed.\n",
    "    time: If true time features: Hour, Minute, Second will be added.\n",
    "    \n",
    "    \"\"\"\n",
    "    \n",
    "    fld = df[fldname]\n",
    "    fld_dtype = fld.dtype\n",
    "    if isinstance(fld_dtype, pd.core.dtypes.dtypes.DatetimeTZDtype):\n",
    "        fld_dtype = np.datetime64\n",
    "\n",
    "    if not np.issubdtype(fld_dtype, np.datetime64):\n",
    "        df[fldname] = fld = pd.to_datetime(fld, infer_datetime_format=True, errors=errors)\n",
    "    targ_pre = re.sub('[Dd]ate$', '', fldname)\n",
    "    attr = ['Year', 'Month', 'Week', 'Day', 'Dayofweek', 'Dayofyear',\n",
    "            'Is_month_end', 'Is_month_start', 'Is_quarter_end', 'Is_quarter_start', 'Is_year_end', 'Is_year_start']\n",
    "    if time: attr = attr + ['Hour', 'Minute', 'Second']\n",
    "    for n in attr: df[targ_pre + n] = getattr(fld.dt, n.lower())\n",
    "    df[targ_pre + 'Elapsed'] = fld.astype(np.int64) // 10 ** 9\n",
    "    if drop: df.drop(fldname, axis=1, inplace=True)\n",
    "\n",
    "def is_date(x): return np.issubdtype(x.dtype, np.datetime64)"
   ]
  },
  {
   "cell_type": "code",
   "execution_count": 18,
   "id": "9f035ba3",
   "metadata": {},
   "outputs": [],
   "source": [
    "#separating target varible and independent avriables\n",
    "X = df_train.loc[:, df_train.columns != 'loan_status']\n",
    "Y = df_train.loan_status"
   ]
  },
  {
   "cell_type": "code",
   "execution_count": 19,
   "id": "5f2141c5",
   "metadata": {},
   "outputs": [
    {
     "name": "stderr",
     "output_type": "stream",
     "text": [
      "C:\\Users\\SVIKASSH\\AppData\\Local\\Temp/ipykernel_20496/1932210331.py:28: FutureWarning: Series.dt.weekofyear and Series.dt.week have been deprecated.  Please use Series.dt.isocalendar().week instead.\n",
      "  for n in attr: df[targ_pre + n] = getattr(fld.dt, n.lower())\n",
      "C:\\Users\\SVIKASSH\\AppData\\Local\\Temp/ipykernel_20496/1932210331.py:29: FutureWarning: casting datetime64[ns] values to int64 with .astype(...) is deprecated and will raise in a future version. Use .view(...) instead.\n",
      "  df[targ_pre + 'Elapsed'] = fld.astype(np.int64) // 10 ** 9\n"
     ]
    },
    {
     "data": {
      "text/html": [
       "<div>\n",
       "<style scoped>\n",
       "    .dataframe tbody tr th:only-of-type {\n",
       "        vertical-align: middle;\n",
       "    }\n",
       "\n",
       "    .dataframe tbody tr th {\n",
       "        vertical-align: top;\n",
       "    }\n",
       "\n",
       "    .dataframe thead th {\n",
       "        text-align: right;\n",
       "    }\n",
       "</style>\n",
       "<table border=\"1\" class=\"dataframe\">\n",
       "  <thead>\n",
       "    <tr style=\"text-align: right;\">\n",
       "      <th></th>\n",
       "      <th>one</th>\n",
       "      <th>two</th>\n",
       "      <th>Principal</th>\n",
       "      <th>terms</th>\n",
       "      <th>age</th>\n",
       "      <th>Gender</th>\n",
       "      <th>Bechalor</th>\n",
       "      <th>High School or Below</th>\n",
       "      <th>Master or Above</th>\n",
       "      <th>college</th>\n",
       "      <th>...</th>\n",
       "      <th>due_Day</th>\n",
       "      <th>due_Dayofweek</th>\n",
       "      <th>due_Dayofyear</th>\n",
       "      <th>due_Is_month_end</th>\n",
       "      <th>due_Is_month_start</th>\n",
       "      <th>due_Is_quarter_end</th>\n",
       "      <th>due_Is_quarter_start</th>\n",
       "      <th>due_Is_year_end</th>\n",
       "      <th>due_Is_year_start</th>\n",
       "      <th>due_Elapsed</th>\n",
       "    </tr>\n",
       "  </thead>\n",
       "  <tbody>\n",
       "    <tr>\n",
       "      <th>0</th>\n",
       "      <td>0</td>\n",
       "      <td>0</td>\n",
       "      <td>1000</td>\n",
       "      <td>30</td>\n",
       "      <td>45</td>\n",
       "      <td>1</td>\n",
       "      <td>0</td>\n",
       "      <td>1</td>\n",
       "      <td>0</td>\n",
       "      <td>0</td>\n",
       "      <td>...</td>\n",
       "      <td>7</td>\n",
       "      <td>4</td>\n",
       "      <td>281</td>\n",
       "      <td>False</td>\n",
       "      <td>False</td>\n",
       "      <td>False</td>\n",
       "      <td>False</td>\n",
       "      <td>False</td>\n",
       "      <td>False</td>\n",
       "      <td>1475798400</td>\n",
       "    </tr>\n",
       "    <tr>\n",
       "      <th>1</th>\n",
       "      <td>2</td>\n",
       "      <td>2</td>\n",
       "      <td>1000</td>\n",
       "      <td>30</td>\n",
       "      <td>33</td>\n",
       "      <td>0</td>\n",
       "      <td>1</td>\n",
       "      <td>0</td>\n",
       "      <td>0</td>\n",
       "      <td>0</td>\n",
       "      <td>...</td>\n",
       "      <td>7</td>\n",
       "      <td>4</td>\n",
       "      <td>281</td>\n",
       "      <td>False</td>\n",
       "      <td>False</td>\n",
       "      <td>False</td>\n",
       "      <td>False</td>\n",
       "      <td>False</td>\n",
       "      <td>False</td>\n",
       "      <td>1475798400</td>\n",
       "    </tr>\n",
       "    <tr>\n",
       "      <th>2</th>\n",
       "      <td>3</td>\n",
       "      <td>3</td>\n",
       "      <td>1000</td>\n",
       "      <td>15</td>\n",
       "      <td>27</td>\n",
       "      <td>1</td>\n",
       "      <td>0</td>\n",
       "      <td>0</td>\n",
       "      <td>0</td>\n",
       "      <td>1</td>\n",
       "      <td>...</td>\n",
       "      <td>22</td>\n",
       "      <td>3</td>\n",
       "      <td>266</td>\n",
       "      <td>False</td>\n",
       "      <td>False</td>\n",
       "      <td>False</td>\n",
       "      <td>False</td>\n",
       "      <td>False</td>\n",
       "      <td>False</td>\n",
       "      <td>1474502400</td>\n",
       "    </tr>\n",
       "    <tr>\n",
       "      <th>3</th>\n",
       "      <td>4</td>\n",
       "      <td>4</td>\n",
       "      <td>1000</td>\n",
       "      <td>30</td>\n",
       "      <td>28</td>\n",
       "      <td>0</td>\n",
       "      <td>0</td>\n",
       "      <td>0</td>\n",
       "      <td>0</td>\n",
       "      <td>1</td>\n",
       "      <td>...</td>\n",
       "      <td>8</td>\n",
       "      <td>5</td>\n",
       "      <td>282</td>\n",
       "      <td>False</td>\n",
       "      <td>False</td>\n",
       "      <td>False</td>\n",
       "      <td>False</td>\n",
       "      <td>False</td>\n",
       "      <td>False</td>\n",
       "      <td>1475884800</td>\n",
       "    </tr>\n",
       "    <tr>\n",
       "      <th>4</th>\n",
       "      <td>6</td>\n",
       "      <td>6</td>\n",
       "      <td>1000</td>\n",
       "      <td>30</td>\n",
       "      <td>29</td>\n",
       "      <td>1</td>\n",
       "      <td>0</td>\n",
       "      <td>0</td>\n",
       "      <td>0</td>\n",
       "      <td>1</td>\n",
       "      <td>...</td>\n",
       "      <td>8</td>\n",
       "      <td>5</td>\n",
       "      <td>282</td>\n",
       "      <td>False</td>\n",
       "      <td>False</td>\n",
       "      <td>False</td>\n",
       "      <td>False</td>\n",
       "      <td>False</td>\n",
       "      <td>False</td>\n",
       "      <td>1475884800</td>\n",
       "    </tr>\n",
       "    <tr>\n",
       "      <th>...</th>\n",
       "      <td>...</td>\n",
       "      <td>...</td>\n",
       "      <td>...</td>\n",
       "      <td>...</td>\n",
       "      <td>...</td>\n",
       "      <td>...</td>\n",
       "      <td>...</td>\n",
       "      <td>...</td>\n",
       "      <td>...</td>\n",
       "      <td>...</td>\n",
       "      <td>...</td>\n",
       "      <td>...</td>\n",
       "      <td>...</td>\n",
       "      <td>...</td>\n",
       "      <td>...</td>\n",
       "      <td>...</td>\n",
       "      <td>...</td>\n",
       "      <td>...</td>\n",
       "      <td>...</td>\n",
       "      <td>...</td>\n",
       "      <td>...</td>\n",
       "    </tr>\n",
       "    <tr>\n",
       "      <th>49</th>\n",
       "      <td>348</td>\n",
       "      <td>348</td>\n",
       "      <td>1000</td>\n",
       "      <td>30</td>\n",
       "      <td>32</td>\n",
       "      <td>1</td>\n",
       "      <td>0</td>\n",
       "      <td>1</td>\n",
       "      <td>0</td>\n",
       "      <td>0</td>\n",
       "      <td>...</td>\n",
       "      <td>10</td>\n",
       "      <td>0</td>\n",
       "      <td>284</td>\n",
       "      <td>False</td>\n",
       "      <td>False</td>\n",
       "      <td>False</td>\n",
       "      <td>False</td>\n",
       "      <td>False</td>\n",
       "      <td>False</td>\n",
       "      <td>1476057600</td>\n",
       "    </tr>\n",
       "    <tr>\n",
       "      <th>50</th>\n",
       "      <td>349</td>\n",
       "      <td>349</td>\n",
       "      <td>800</td>\n",
       "      <td>15</td>\n",
       "      <td>29</td>\n",
       "      <td>1</td>\n",
       "      <td>0</td>\n",
       "      <td>0</td>\n",
       "      <td>0</td>\n",
       "      <td>1</td>\n",
       "      <td>...</td>\n",
       "      <td>25</td>\n",
       "      <td>6</td>\n",
       "      <td>269</td>\n",
       "      <td>False</td>\n",
       "      <td>False</td>\n",
       "      <td>False</td>\n",
       "      <td>False</td>\n",
       "      <td>False</td>\n",
       "      <td>False</td>\n",
       "      <td>1474761600</td>\n",
       "    </tr>\n",
       "    <tr>\n",
       "      <th>51</th>\n",
       "      <td>369</td>\n",
       "      <td>369</td>\n",
       "      <td>1000</td>\n",
       "      <td>30</td>\n",
       "      <td>37</td>\n",
       "      <td>1</td>\n",
       "      <td>0</td>\n",
       "      <td>1</td>\n",
       "      <td>0</td>\n",
       "      <td>0</td>\n",
       "      <td>...</td>\n",
       "      <td>10</td>\n",
       "      <td>0</td>\n",
       "      <td>284</td>\n",
       "      <td>False</td>\n",
       "      <td>False</td>\n",
       "      <td>False</td>\n",
       "      <td>False</td>\n",
       "      <td>False</td>\n",
       "      <td>False</td>\n",
       "      <td>1476057600</td>\n",
       "    </tr>\n",
       "    <tr>\n",
       "      <th>52</th>\n",
       "      <td>370</td>\n",
       "      <td>370</td>\n",
       "      <td>800</td>\n",
       "      <td>15</td>\n",
       "      <td>36</td>\n",
       "      <td>1</td>\n",
       "      <td>0</td>\n",
       "      <td>1</td>\n",
       "      <td>0</td>\n",
       "      <td>0</td>\n",
       "      <td>...</td>\n",
       "      <td>25</td>\n",
       "      <td>6</td>\n",
       "      <td>269</td>\n",
       "      <td>False</td>\n",
       "      <td>False</td>\n",
       "      <td>False</td>\n",
       "      <td>False</td>\n",
       "      <td>False</td>\n",
       "      <td>False</td>\n",
       "      <td>1474761600</td>\n",
       "    </tr>\n",
       "    <tr>\n",
       "      <th>53</th>\n",
       "      <td>396</td>\n",
       "      <td>396</td>\n",
       "      <td>1000</td>\n",
       "      <td>30</td>\n",
       "      <td>33</td>\n",
       "      <td>1</td>\n",
       "      <td>0</td>\n",
       "      <td>1</td>\n",
       "      <td>0</td>\n",
       "      <td>0</td>\n",
       "      <td>...</td>\n",
       "      <td>11</td>\n",
       "      <td>1</td>\n",
       "      <td>285</td>\n",
       "      <td>False</td>\n",
       "      <td>False</td>\n",
       "      <td>False</td>\n",
       "      <td>False</td>\n",
       "      <td>False</td>\n",
       "      <td>False</td>\n",
       "      <td>1476144000</td>\n",
       "    </tr>\n",
       "  </tbody>\n",
       "</table>\n",
       "<p>400 rows × 36 columns</p>\n",
       "</div>"
      ],
      "text/plain": [
       "    one  two  Principal  terms  age  Gender  Bechalor  High School or Below  \\\n",
       "0     0    0       1000     30   45       1         0                     1   \n",
       "1     2    2       1000     30   33       0         1                     0   \n",
       "2     3    3       1000     15   27       1         0                     0   \n",
       "3     4    4       1000     30   28       0         0                     0   \n",
       "4     6    6       1000     30   29       1         0                     0   \n",
       "..  ...  ...        ...    ...  ...     ...       ...                   ...   \n",
       "49  348  348       1000     30   32       1         0                     1   \n",
       "50  349  349        800     15   29       1         0                     0   \n",
       "51  369  369       1000     30   37       1         0                     1   \n",
       "52  370  370        800     15   36       1         0                     1   \n",
       "53  396  396       1000     30   33       1         0                     1   \n",
       "\n",
       "    Master or Above  college  ...  due_Day  due_Dayofweek  due_Dayofyear  \\\n",
       "0                 0        0  ...        7              4            281   \n",
       "1                 0        0  ...        7              4            281   \n",
       "2                 0        1  ...       22              3            266   \n",
       "3                 0        1  ...        8              5            282   \n",
       "4                 0        1  ...        8              5            282   \n",
       "..              ...      ...  ...      ...            ...            ...   \n",
       "49                0        0  ...       10              0            284   \n",
       "50                0        1  ...       25              6            269   \n",
       "51                0        0  ...       10              0            284   \n",
       "52                0        0  ...       25              6            269   \n",
       "53                0        0  ...       11              1            285   \n",
       "\n",
       "    due_Is_month_end  due_Is_month_start  due_Is_quarter_end  \\\n",
       "0              False               False               False   \n",
       "1              False               False               False   \n",
       "2              False               False               False   \n",
       "3              False               False               False   \n",
       "4              False               False               False   \n",
       "..               ...                 ...                 ...   \n",
       "49             False               False               False   \n",
       "50             False               False               False   \n",
       "51             False               False               False   \n",
       "52             False               False               False   \n",
       "53             False               False               False   \n",
       "\n",
       "    due_Is_quarter_start  due_Is_year_end  due_Is_year_start  due_Elapsed  \n",
       "0                  False            False              False   1475798400  \n",
       "1                  False            False              False   1475798400  \n",
       "2                  False            False              False   1474502400  \n",
       "3                  False            False              False   1475884800  \n",
       "4                  False            False              False   1475884800  \n",
       "..                   ...              ...                ...          ...  \n",
       "49                 False            False              False   1476057600  \n",
       "50                 False            False              False   1474761600  \n",
       "51                 False            False              False   1476057600  \n",
       "52                 False            False              False   1474761600  \n",
       "53                 False            False              False   1476144000  \n",
       "\n",
       "[400 rows x 36 columns]"
      ]
     },
     "execution_count": 19,
     "metadata": {},
     "output_type": "execute_result"
    }
   ],
   "source": [
    "add_datepart(X, fldname= 'effective_date')\n",
    "add_datepart(X, fldname= 'due_date')\n",
    "X"
   ]
  },
  {
   "cell_type": "code",
   "execution_count": 20,
   "id": "aa69e176",
   "metadata": {},
   "outputs": [
    {
     "data": {
      "text/plain": [
       "one                           int64\n",
       "two                           int64\n",
       "Principal                     int64\n",
       "terms                         int64\n",
       "age                           int64\n",
       "Gender                        int32\n",
       "Bechalor                      uint8\n",
       "High School or Below          uint8\n",
       "Master or Above               uint8\n",
       "college                       uint8\n",
       "effective_Year                int64\n",
       "effective_Month               int64\n",
       "effective_Week                int64\n",
       "effective_Day                 int64\n",
       "effective_Dayofweek           int64\n",
       "effective_Dayofyear           int64\n",
       "effective_Is_month_end         bool\n",
       "effective_Is_month_start       bool\n",
       "effective_Is_quarter_end       bool\n",
       "effective_Is_quarter_start     bool\n",
       "effective_Is_year_end          bool\n",
       "effective_Is_year_start        bool\n",
       "effective_Elapsed             int64\n",
       "due_Year                      int64\n",
       "due_Month                     int64\n",
       "due_Week                      int64\n",
       "due_Day                       int64\n",
       "due_Dayofweek                 int64\n",
       "due_Dayofyear                 int64\n",
       "due_Is_month_end               bool\n",
       "due_Is_month_start             bool\n",
       "due_Is_quarter_end             bool\n",
       "due_Is_quarter_start           bool\n",
       "due_Is_year_end                bool\n",
       "due_Is_year_start              bool\n",
       "due_Elapsed                   int64\n",
       "dtype: object"
      ]
     },
     "execution_count": 20,
     "metadata": {},
     "output_type": "execute_result"
    }
   ],
   "source": [
    "X.dtypes"
   ]
  },
  {
   "cell_type": "code",
   "execution_count": 21,
   "id": "952a0130",
   "metadata": {},
   "outputs": [
    {
     "data": {
      "text/plain": [
       "array([[-1.72772608, -1.72772608,  0.50130175,  0.92089421,  2.31334964,\n",
       "         0.43236977, -0.38655567,  1.15133896, -0.10050378, -0.86855395,\n",
       "         0.        ,  0.        , -0.80379757, -2.99072091, -0.26462433,\n",
       "        -2.99072091,  0.        ,  0.        ,  0.        ,  0.        ,\n",
       "         0.        ,  0.        , -2.99072091,  0.        ,  0.72049117,\n",
       "         0.05549036, -1.33593342,  0.61329721,  0.20072177,  0.        ,\n",
       "         0.        ,  0.        ,  0.        ,  0.        ,  0.        ,\n",
       "         0.20072177],\n",
       "       [-1.71040552, -1.71040552,  0.50130175,  0.92089421,  0.32194392,\n",
       "        -2.31283513,  2.5869495 , -0.86855395, -0.10050378, -0.86855395,\n",
       "         0.        ,  0.        , -0.80379757, -2.99072091, -0.26462433,\n",
       "        -2.99072091,  0.        ,  0.        ,  0.        ,  0.        ,\n",
       "         0.        ,  0.        , -2.99072091,  0.        ,  0.72049117,\n",
       "         0.05549036, -1.33593342,  0.61329721,  0.20072177,  0.        ,\n",
       "         0.        ,  0.        ,  0.        ,  0.        ,  0.        ,\n",
       "         0.20072177],\n",
       "       [-1.70174524, -1.70174524,  0.50130175, -0.9332552 , -0.67375893,\n",
       "         0.43236977, -0.38655567, -0.86855395, -0.10050378,  1.15133896,\n",
       "         0.        ,  0.        , -0.80379757, -2.99072091, -0.26462433,\n",
       "        -2.99072091,  0.        ,  0.        ,  0.        ,  0.        ,\n",
       "         0.        ,  0.        , -2.99072091,  0.        , -1.05849937,\n",
       "        -1.11272776,  0.68514588,  0.21310327, -1.1693927 ,  0.        ,\n",
       "         0.        ,  0.        ,  0.        ,  0.        ,  0.        ,\n",
       "        -1.1693927 ]])"
      ]
     },
     "execution_count": 21,
     "metadata": {},
     "output_type": "execute_result"
    }
   ],
   "source": [
    "from sklearn.preprocessing import StandardScaler\n",
    "X_normalized = StandardScaler().fit(X).transform(X)\n",
    "X_normalized[0:3]"
   ]
  },
  {
   "cell_type": "code",
   "execution_count": 22,
   "id": "6de96649",
   "metadata": {},
   "outputs": [],
   "source": [
    "from sklearn import decomposition\n",
    "pca = decomposition.PCA(n_components=4)\n",
    "X = pca.fit_transform(X)"
   ]
  },
  {
   "cell_type": "code",
   "execution_count": 23,
   "id": "51db82a0",
   "metadata": {},
   "outputs": [],
   "source": [
    "from sklearn.model_selection import train_test_split\n",
    "from sklearn.model_selection import train_test_split\n",
    "X_train, X_valid, Y_train, Y_valid = train_test_split (X, Y, test_size= 0.2, random_state= 0)"
   ]
  },
  {
   "cell_type": "code",
   "execution_count": 24,
   "id": "7505afe9",
   "metadata": {},
   "outputs": [
    {
     "name": "stdout",
     "output_type": "stream",
     "text": [
      "1    300\n",
      "0    100\n",
      "Name: loan_status, dtype: int64\n"
     ]
    },
    {
     "data": {
      "image/png": "[encoded data removed]",
      "text/plain": [
       "<Figure size 432x288 with 1 Axes>"
      ]
     },
     "metadata": {
      "needs_background": "light"
     },
     "output_type": "display_data"
    },
    {
     "name": "stdout",
     "output_type": "stream",
     "text": [
      "1    59\n",
      "0    21\n",
      "Name: loan_status, dtype: int64\n"
     ]
    },
    {
     "data": {
      "image/png": "[encoded data removed]",
      "text/plain": [
       "<Figure size 432x288 with 1 Axes>"
      ]
     },
     "metadata": {
      "needs_background": "light"
     },
     "output_type": "display_data"
    }
   ],
   "source": [
    "#class counts in target variable\n",
    "print(df_train.loan_status.value_counts())\n",
    "\n",
    "df_train.loan_status.value_counts().plot.bar(rot=0)\n",
    "plot.show()\n",
    "\n",
    "print(Y_valid.value_counts())\n",
    "Y_valid.value_counts().plot.bar(rot=0)\n",
    "plot.show()"
   ]
  },
  {
   "cell_type": "code",
   "execution_count": 25,
   "id": "2b7c408d",
   "metadata": {},
   "outputs": [
    {
     "name": "stdout",
     "output_type": "stream",
     "text": [
      "0.9625\n"
     ]
    },
    {
     "data": {
      "text/plain": [
       "array([[21,  0],\n",
       "       [ 3, 56]], dtype=int64)"
      ]
     },
     "execution_count": 25,
     "metadata": {},
     "output_type": "execute_result"
    }
   ],
   "source": [
    "#Logistic model\n",
    "from sklearn.linear_model import LogisticRegression\n",
    "\n",
    "# instantiate the model (using the default parameters)\n",
    "logreg = LogisticRegression()\n",
    "\n",
    "# fit the model with data\n",
    "logreg.fit(X_train,Y_train)\n",
    "\n",
    "#\n",
    "y_pred_LR =logreg.predict(X_valid)\n",
    "\n",
    "from sklearn.metrics import accuracy_score\n",
    "print(accuracy_score(Y_valid, y_pred_LR))\n",
    "\n",
    "from sklearn.metrics import confusion_matrix\n",
    "confusion_matrix(Y_valid, y_pred_LR)"
   ]
  },
  {
   "cell_type": "code",
   "execution_count": 26,
   "id": "29675bee",
   "metadata": {},
   "outputs": [
    {
     "name": "stdout",
     "output_type": "stream",
     "text": [
      "1.0\n"
     ]
    },
    {
     "data": {
      "text/plain": [
       "array([[21,  0],\n",
       "       [ 0, 59]], dtype=int64)"
      ]
     },
     "execution_count": 26,
     "metadata": {},
     "output_type": "execute_result"
    }
   ],
   "source": [
    "from sklearn.model_selection import train_test_split\n",
    "from sklearn.tree import DecisionTreeClassifier\n",
    "\n",
    "DT = DecisionTreeClassifier(criterion=\"entropy\", max_depth = 4)\n",
    "DT.fit(X_train,Y_train)\n",
    "#DT\n",
    "\n",
    "y_pred_DT=DT.predict(X_valid)\n",
    "print(accuracy_score(Y_valid, y_pred_DT))\n",
    "\n",
    "\n",
    "from sklearn.metrics import confusion_matrix\n",
    "confusion_matrix(Y_valid, y_pred_DT)"
   ]
  },
  {
   "cell_type": "code",
   "execution_count": 27,
   "id": "4e7f9d97",
   "metadata": {},
   "outputs": [
    {
     "data": {
      "image/png": "[encoded data removed]",
      "text/plain": [
       "<Figure size 432x288 with 1 Axes>"
      ]
     },
     "metadata": {
      "needs_background": "light"
     },
     "output_type": "display_data"
    },
    {
     "data": {
      "text/plain": [
       "array([0.95  , 0.9125, 0.9375, 0.9375, 0.95  , 0.9125, 0.9125, 0.9125,\n",
       "       0.9125, 0.9125, 0.9125, 0.9125, 0.95  , 0.9125, 0.9125, 0.9125,\n",
       "       0.9125, 0.9125, 0.9125])"
      ]
     },
     "execution_count": 27,
     "metadata": {},
     "output_type": "execute_result"
    }
   ],
   "source": [
    "from sklearn.neighbors import KNeighborsClassifier\n",
    "\n",
    "kmax=20\n",
    "mean_accuracy=np.zeros(kmax-1)\n",
    "\n",
    "for k in range(1,kmax):\n",
    "    \n",
    "    #Train Model and Predict  \n",
    "    knn = KNeighborsClassifier(n_neighbors=k).fit(X_train,Y_train)\n",
    "    ypred = knn.predict(X_valid)\n",
    "    mean_accuracy[k-1]=np.mean(ypred==Y_valid);\n",
    "    \n",
    "    \n",
    "\n",
    "\n",
    "plot.plot(np.arange(19),mean_accuracy)\n",
    "plot.xlabel(\"K value\")\n",
    "plot.ylabel(\"mean accuracy\")\n",
    "plot.show()\n",
    "mean_accuracy"
   ]
  },
  {
   "cell_type": "code",
   "execution_count": 28,
   "id": "1be71ef3",
   "metadata": {},
   "outputs": [
    {
     "name": "stdout",
     "output_type": "stream",
     "text": [
      "0.95\n"
     ]
    },
    {
     "data": {
      "text/plain": [
       "array([[17,  4],\n",
       "       [ 0, 59]], dtype=int64)"
      ]
     },
     "execution_count": 28,
     "metadata": {},
     "output_type": "execute_result"
    }
   ],
   "source": [
    "knn = KNeighborsClassifier(n_neighbors=5).fit(X_train,Y_train)\n",
    "y_pred_knn = knn.predict(X_valid)\n",
    "\n",
    "from sklearn.metrics import accuracy_score\n",
    "print(accuracy_score(Y_valid, y_pred_knn))\n",
    "\n",
    "from sklearn.metrics import confusion_matrix\n",
    "confusion_matrix(Y_valid, y_pred_knn)"
   ]
  },
  {
   "cell_type": "code",
   "execution_count": 29,
   "id": "5296d1ed",
   "metadata": {},
   "outputs": [
    {
     "name": "stdout",
     "output_type": "stream",
     "text": [
      "0.7375\n"
     ]
    },
    {
     "data": {
      "text/plain": [
       "array([[ 0, 21],\n",
       "       [ 0, 59]], dtype=int64)"
      ]
     },
     "execution_count": 29,
     "metadata": {},
     "output_type": "execute_result"
    }
   ],
   "source": [
    "from sklearn import svm\n",
    "svm = svm.SVC(probability=True)\n",
    "svm.fit(X_train, Y_train)\n",
    "\n",
    "y_pred_svm = svm.predict(X_valid)\n",
    "\n",
    "from sklearn.metrics import accuracy_score\n",
    "print(accuracy_score(Y_valid, y_pred_svm))\n",
    "\n",
    "from sklearn.metrics import confusion_matrix\n",
    "confusion_matrix(Y_valid, y_pred_svm)"
   ]
  },
  {
   "cell_type": "code",
   "execution_count": 34,
   "id": "8fde390a",
   "metadata": {},
   "outputs": [],
   "source": [
    "from sklearn.metrics import jaccard_score\n",
    "from sklearn.metrics import f1_score\n",
    "from sklearn.metrics import log_loss"
   ]
  },
  {
   "cell_type": "code",
   "execution_count": 36,
   "id": "28bc4bc9",
   "metadata": {},
   "outputs": [
    {
     "data": {
      "text/plain": [
       "[0.95, 1.0, 0.94, 0.74]"
      ]
     },
     "execution_count": 36,
     "metadata": {},
     "output_type": "execute_result"
    }
   ],
   "source": [
    "# Jaccard for LR \n",
    "jcLR = round(jaccard_score(Y_valid, y_pred_LR),2)\n",
    "# Jaccard Decision Trees\n",
    "jcDT = round(jaccard_score(Y_valid, y_pred_DT),2)\n",
    "#Jaccard for KNN\n",
    "jcKNN = round(jaccard_score(Y_valid, y_pred_knn),2)\n",
    "# Jaccard for SVM\n",
    "jcSVM = round(jaccard_score(Y_valid, y_pred_svm),2)\n",
    "\n",
    "list_jaccard_similarity  = [jcLR, jcDT, jcKNN, jcSVM]\n",
    "list_jaccard_similarity"
   ]
  },
  {
   "cell_type": "code",
   "execution_count": 37,
   "id": "55a766dc",
   "metadata": {},
   "outputs": [
    {
     "data": {
      "text/plain": [
       "[0.96, 1.0, 0.95, 0.63]"
      ]
     },
     "execution_count": 37,
     "metadata": {},
     "output_type": "execute_result"
    }
   ],
   "source": [
    "fLR = round(f1_score(Y_valid, y_pred_LR, average='weighted'), 2)\n",
    "fDT = round(f1_score(Y_valid, y_pred_DT, average='weighted'), 2)\n",
    "fKNN = round(f1_score(Y_valid, y_pred_knn, average='weighted'), 2)\n",
    "fSVM = round(f1_score(Y_valid, y_pred_svm, average='weighted'),2 )\n",
    "\n",
    "list_f1_score = [fLR, fDT, fKNN, fSVM]\n",
    "list_f1_score"
   ]
  },
  {
   "cell_type": "code",
   "execution_count": 38,
   "id": "fc8b3d41",
   "metadata": {},
   "outputs": [
    {
     "data": {
      "text/plain": [
       "[0.051076116175748164, 0.0, 0.12, 0.57]"
      ]
     },
     "execution_count": 38,
     "metadata": {},
     "output_type": "execute_result"
    }
   ],
   "source": [
    "lgloss_LR =log_loss(Y_valid, logreg.predict_proba(X_valid))\n",
    "lgloss_DT = round(log_loss(Y_valid, DT.predict_proba(X_valid)), 2)\n",
    "lgloss_KNN =round(log_loss(Y_valid, knn.predict_proba(X_valid)), 2)\n",
    "lgloss_SVM =round(log_loss(Y_valid, svm.predict_proba(X_valid,)), 2)\n",
    "\n",
    "\n",
    "list_log_loss = [lgloss_LR, lgloss_DT, lgloss_KNN, lgloss_SVM]\n",
    "list_log_loss"
   ]
  },
  {
   "cell_type": "code",
   "execution_count": 39,
   "id": "8c30a1ae",
   "metadata": {},
   "outputs": [
    {
     "data": {
      "image/png": "[encoded data removed]",
      "text/plain": [
       "<Figure size 432x288 with 1 Axes>"
      ]
     },
     "metadata": {
      "needs_background": "light"
     },
     "output_type": "display_data"
    }
   ],
   "source": [
    "ind = np.arange(4) \n",
    "width = 0.35       \n",
    "plot.bar(ind, list_jaccard_similarity, width, label='Jaccard Index')\n",
    "plot.bar(ind + width,  list_f1_score, width,\n",
    "    label='F1-Score')\n",
    "\n",
    "plot.ylabel('Scores')\n",
    "plot.title('Comparision between Jacard similarity and F1- Score')\n",
    "\n",
    "plot.xticks(ind + width / 2, ('LR', 'DT', 'KNN', 'SVM'))\n",
    "plot.legend(loc='best')\n",
    "plot.show()"
   ]
  },
  {
   "cell_type": "code",
   "execution_count": 40,
   "id": "180efab0",
   "metadata": {},
   "outputs": [
    {
     "data": {
      "image/png": "[encoded data removed]",
      "text/plain": [
       "<Figure size 432x288 with 1 Axes>"
      ]
     },
     "metadata": {
      "needs_background": "light"
     },
     "output_type": "display_data"
    }
   ],
   "source": [
    "width = 0.35       \n",
    "plot.bar(ind, list_log_loss, width, label='Log Loss Report')\n",
    "\n",
    "plot.ylabel('Scores')\n",
    "plot.title('Log Loss Report')\n",
    "\n",
    "plot.xticks(ind , ('LR', 'DT', 'KNN', 'SVM'))\n",
    "plot.legend(loc='best')\n",
    "plot.show()"
   ]
  },
  {
   "cell_type": "code",
   "execution_count": 41,
   "id": "b29d573b",
   "metadata": {},
   "outputs": [
    {
     "name": "stdout",
     "output_type": "stream",
     "text": [
      "  Model  Jaccard  F1-Score  Log-Loss\n",
      "0    LR     0.95      0.96  0.051076\n",
      "1    DT     1.00      1.00  0.000000\n",
      "2   KNN     0.94      0.95  0.120000\n",
      "3   SVM     0.74      0.63  0.570000\n"
     ]
    }
   ],
   "source": [
    "# printing F1-score, Jaccard similary and log loss together:\n",
    "df = pd.DataFrame(\n",
    "    list(zip(\n",
    "        ['LR','DT','KNN','SVM'],list_jaccard_similarity, list_f1_score, list_log_loss)),\n",
    "    columns = ['Model', 'Jaccard','F1-Score','Log-Loss']\n",
    ")\n",
    "\n",
    "df = pd.DataFrame.from_dict(df)\n",
    "\n",
    "print(df)"
   ]
  },
  {
   "cell_type": "code",
   "execution_count": null,
   "id": "b26e7b1e",
   "metadata": {},
   "outputs": [],
   "source": []
  }
 ],
 "metadata": {
  "kernelspec": {
   "display_name": "Python 3 (ipykernel)",
   "language": "python",
   "name": "python3"
  },
  "language_info": {
   "codemirror_mode": {
    "name": "ipython",
    "version": 3
   },
   "file_extension": ".py",
   "mimetype": "text/x-python",
   "name": "python",
   "nbconvert_exporter": "python",
   "pygments_lexer": "ipython3",
   "version": "3.9.7"
  }
 },
 "nbformat": 4,
 "nbformat_minor": 5
}
